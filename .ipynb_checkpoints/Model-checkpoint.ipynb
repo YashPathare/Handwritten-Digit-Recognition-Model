{
 "cells": [
  {
   "cell_type": "markdown",
   "id": "711e2a70-4065-4fa1-90be-377246f921f3",
   "metadata": {},
   "source": [
    "## Fetching Dataset"
   ]
  },
  {
   "cell_type": "code",
   "execution_count": null,
   "id": "ea7b8e79-e495-4713-b6b5-f0ed08450836",
   "metadata": {},
   "outputs": [],
   "source": [
    "from sklearn.datasets import fetch_openml"
   ]
  },
  {
   "cell_type": "code",
   "execution_count": null,
   "id": "fc1f4ae9-71fe-4b26-ab5f-4ec10a82fa7b",
   "metadata": {},
   "outputs": [],
   "source": [
    "mnist=fetch_openml('mnist_784')"
   ]
  },
  {
   "cell_type": "code",
   "execution_count": null,
   "id": "d95d03a2-3e23-489d-b8e0-fc36070e38b6",
   "metadata": {},
   "outputs": [],
   "source": [
    "mnist"
   ]
  },
  {
   "cell_type": "code",
   "execution_count": null,
   "id": "ac9788e3-b02f-40f0-872f-2d64b35bb1e7",
   "metadata": {},
   "outputs": [],
   "source": [
    "x,y=mnist['data'],mnist['target']"
   ]
  },
  {
   "cell_type": "code",
   "execution_count": null,
   "id": "7a905163-5045-49d2-ae77-e7b878c20f7e",
   "metadata": {},
   "outputs": [],
   "source": [
    "x[0]"
   ]
  },
  {
   "cell_type": "code",
   "execution_count": null,
   "id": "7f3fdce8-9777-4efc-9328-15bf2075e96d",
   "metadata": {},
   "outputs": [],
   "source": [
    "x.shape"
   ]
  },
  {
   "cell_type": "code",
   "execution_count": null,
   "id": "3d50a232-450f-423b-a823-2a2abdfa6287",
   "metadata": {},
   "outputs": [],
   "source": [
    "y.shape"
   ]
  },
  {
   "cell_type": "code",
   "execution_count": null,
   "id": "06acb2da-96e6-497e-92a3-9c87cbdbfa28",
   "metadata": {},
   "outputs": [],
   "source": [
    "%matplotlib inline"
   ]
  },
  {
   "cell_type": "raw",
   "id": "00988fe7-4c12-4a86-b43f-82ba11b5c021",
   "metadata": {},
   "source": [
    "import matplotlib\n",
    "import matplotlib.pyplot as plt"
   ]
  },
  {
   "cell_type": "code",
   "execution_count": null,
   "id": "e7108a61-6285-4f06-92f8-fc0fe77dfa70",
   "metadata": {},
   "outputs": [],
   "source": [
    "some_digit=x[36000]\n",
    "some_digit_image=some_digit.reshape(28,28) #Lets reshape to plot it"
   ]
  },
  {
   "cell_type": "code",
   "execution_count": null,
   "id": "2420fa7b-4932-4820-91f8-a9ad6fd77369",
   "metadata": {},
   "outputs": [],
   "source": [
    "plt.imshow(some_digit_image,cmap=matplotlib.cm.binary,interpolation=\"nearest\")"
   ]
  },
  {
   "cell_type": "code",
   "execution_count": null,
   "id": "b71969a1-167f-4a61-a4a7-3eaa5773b5c9",
   "metadata": {},
   "outputs": [],
   "source": []
  }
 ],
 "metadata": {
  "kernelspec": {
   "display_name": "Python 3 (ipykernel)",
   "language": "python",
   "name": "python3"
  },
  "language_info": {
   "codemirror_mode": {
    "name": "ipython",
    "version": 3
   },
   "file_extension": ".py",
   "mimetype": "text/x-python",
   "name": "python",
   "nbconvert_exporter": "python",
   "pygments_lexer": "ipython3",
   "version": "3.12.0"
  }
 },
 "nbformat": 4,
 "nbformat_minor": 5
}
